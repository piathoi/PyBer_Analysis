{
 "cells": [
  {
   "cell_type": "markdown",
   "id": "46983d59",
   "metadata": {},
   "source": [
    "# Pyber Challenege"
   ]
  },
  {
   "cell_type": "markdown",
   "id": "324a9a53",
   "metadata": {},
   "source": [
    "# 4.3 Loading and Reading CSV files"
   ]
  },
  {
   "cell_type": "code",
   "execution_count": null,
   "id": "92a1dfa6",
   "metadata": {},
   "outputs": [],
   "source": []
  }
 ],
 "metadata": {
  "kernelspec": {
   "display_name": "Python 3 (ipykernel)",
   "language": "python",
   "name": "python3"
  },
  "language_info": {
   "codemirror_mode": {
    "name": "ipython",
    "version": 3
   },
   "file_extension": ".py",
   "mimetype": "text/x-python",
   "name": "python",
   "nbconvert_exporter": "python",
   "pygments_lexer": "ipython3",
   "version": "3.9.7"
  }
 },
 "nbformat": 4,
 "nbformat_minor": 5
}
